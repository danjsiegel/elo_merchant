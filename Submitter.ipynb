{
 "cells": [
  {
   "cell_type": "code",
   "execution_count": 52,
   "metadata": {},
   "outputs": [
    {
     "ename": "ValueError",
     "evalue": "Buffer dtype mismatch, expected 'Python object' but got 'long long'",
     "output_type": "error",
     "traceback": [
      "\u001b[1;31m-----------------------------------------------------------------\u001b[0m",
      "\u001b[1;31mValueError\u001b[0m                      Traceback (most recent call last)",
      "\u001b[1;31mValueError\u001b[0m: Buffer dtype mismatch, expected 'Python object' but got 'long long'"
     ]
    },
    {
     "name": "stderr",
     "output_type": "stream",
     "text": [
      "Exception ignored in: 'pandas._libs.lib.is_bool_array'\n",
      "ValueError: Buffer dtype mismatch, expected 'Python object' but got 'long long'\n"
     ]
    },
    {
     "ename": "ValueError",
     "evalue": "Buffer dtype mismatch, expected 'Python object' but got 'long long'",
     "output_type": "error",
     "traceback": [
      "\u001b[1;31m-----------------------------------------------------------------\u001b[0m",
      "\u001b[1;31mValueError\u001b[0m                      Traceback (most recent call last)",
      "\u001b[1;31mValueError\u001b[0m: Buffer dtype mismatch, expected 'Python object' but got 'long long'"
     ]
    },
    {
     "name": "stderr",
     "output_type": "stream",
     "text": [
      "Exception ignored in: 'pandas._libs.lib.is_bool_array'\n",
      "ValueError: Buffer dtype mismatch, expected 'Python object' but got 'long long'\n"
     ]
    },
    {
     "ename": "ValueError",
     "evalue": "Buffer dtype mismatch, expected 'Python object' but got 'long long'",
     "output_type": "error",
     "traceback": [
      "\u001b[1;31m-----------------------------------------------------------------\u001b[0m",
      "\u001b[1;31mValueError\u001b[0m                      Traceback (most recent call last)",
      "\u001b[1;31mValueError\u001b[0m: Buffer dtype mismatch, expected 'Python object' but got 'long long'"
     ]
    },
    {
     "name": "stderr",
     "output_type": "stream",
     "text": [
      "Exception ignored in: 'pandas._libs.lib.is_bool_array'\n",
      "ValueError: Buffer dtype mismatch, expected 'Python object' but got 'long long'\n"
     ]
    },
    {
     "ename": "ValueError",
     "evalue": "Buffer dtype mismatch, expected 'Python object' but got 'long long'",
     "output_type": "error",
     "traceback": [
      "\u001b[1;31m-----------------------------------------------------------------\u001b[0m",
      "\u001b[1;31mValueError\u001b[0m                      Traceback (most recent call last)",
      "\u001b[1;31mValueError\u001b[0m: Buffer dtype mismatch, expected 'Python object' but got 'long long'"
     ]
    },
    {
     "name": "stderr",
     "output_type": "stream",
     "text": [
      "Exception ignored in: 'pandas._libs.lib.is_bool_array'\n",
      "ValueError: Buffer dtype mismatch, expected 'Python object' but got 'long long'\n"
     ]
    },
    {
     "ename": "ValueError",
     "evalue": "Buffer dtype mismatch, expected 'Python object' but got 'long long'",
     "output_type": "error",
     "traceback": [
      "\u001b[1;31m-----------------------------------------------------------------\u001b[0m",
      "\u001b[1;31mValueError\u001b[0m                      Traceback (most recent call last)",
      "\u001b[1;31mValueError\u001b[0m: Buffer dtype mismatch, expected 'Python object' but got 'long long'"
     ]
    },
    {
     "name": "stderr",
     "output_type": "stream",
     "text": [
      "Exception ignored in: 'pandas._libs.lib.is_bool_array'\n",
      "ValueError: Buffer dtype mismatch, expected 'Python object' but got 'long long'\n"
     ]
    },
    {
     "ename": "ValueError",
     "evalue": "Buffer dtype mismatch, expected 'Python object' but got 'long long'",
     "output_type": "error",
     "traceback": [
      "\u001b[1;31m-----------------------------------------------------------------\u001b[0m",
      "\u001b[1;31mValueError\u001b[0m                      Traceback (most recent call last)",
      "\u001b[1;31mValueError\u001b[0m: Buffer dtype mismatch, expected 'Python object' but got 'long long'"
     ]
    },
    {
     "name": "stderr",
     "output_type": "stream",
     "text": [
      "Exception ignored in: 'pandas._libs.lib.is_bool_array'\n",
      "ValueError: Buffer dtype mismatch, expected 'Python object' but got 'long long'\n"
     ]
    },
    {
     "name": "stdout",
     "output_type": "stream",
     "text": [
      "                card_id    target\n",
      "0       C_ID_0ab67a22ab -0.428403\n",
      "1       C_ID_130fd0cbdd -0.392400\n",
      "2       C_ID_b709037bc5 -0.423077\n",
      "3       C_ID_d27d835a9f -0.283975\n",
      "4       C_ID_2b5e3df5c2 -0.463637\n",
      "5       C_ID_5814b4f13c -0.424332\n",
      "6       C_ID_a1b3c75277 -0.284338\n",
      "7       C_ID_f7cada36d3 -0.321651\n",
      "8       C_ID_9d2bc8dfc4 -0.487136\n",
      "9       C_ID_6d8dba8475 -0.437713\n",
      "10      C_ID_4859ac9ed5 -0.471436\n",
      "11      C_ID_0e281e8ad6 -0.365828\n",
      "12      C_ID_8375dfdaa2 -0.425166\n",
      "13      C_ID_79d149c008 -0.640065\n",
      "14      C_ID_7f1041e8e1 -0.437294\n",
      "15      C_ID_f72513589e -0.364383\n",
      "16      C_ID_a7f2d6984e -0.423305\n",
      "17      C_ID_15489b42d3 -0.489645\n",
      "18      C_ID_e457bbd71d -0.412095\n",
      "19      C_ID_3f74e10c7e -0.306974\n",
      "20      C_ID_48243da9c4 -0.437185\n",
      "21      C_ID_7ea1fcf117 -0.313665\n",
      "22      C_ID_22e4a47c72 -0.419273\n",
      "23      C_ID_5d30729184 -0.427259\n",
      "24      C_ID_b54cfad8b2 -0.332751\n",
      "25      C_ID_4b82e26faa -0.320396\n",
      "26      C_ID_60a453531a -0.387990\n",
      "27      C_ID_0c9315feec -0.440680\n",
      "28      C_ID_1e28804d36 -0.325642\n",
      "29      C_ID_68de79f7e2 -0.389663\n",
      "...                 ...       ...\n",
      "123593  C_ID_cd42a5db89 -0.455274\n",
      "123594  C_ID_715b9a183d -0.363737\n",
      "123595  C_ID_9b25df3309 -0.343206\n",
      "123596  C_ID_043b3c2ccd -0.388827\n",
      "123597  C_ID_7685eae7b2 -0.410153\n",
      "123598  C_ID_7ee1a21a95 -0.400455\n",
      "123599  C_ID_2bf12fed6b -0.372746\n",
      "123600  C_ID_2932a6ea37 -0.384130\n",
      "123601  C_ID_cc33d0d508 -0.288157\n",
      "123602  C_ID_8852708dcb -0.679073\n",
      "123603  C_ID_c3e88ef62d -0.311249\n",
      "123604  C_ID_650557248c -0.280630\n",
      "123605  C_ID_f14af9cb56 -0.258142\n",
      "123606  C_ID_068dcf31e8 -0.440221\n",
      "123607  C_ID_6659f4625a -0.364573\n",
      "123608  C_ID_dc842bba27 -0.431898\n",
      "123609  C_ID_bd625edce0 -0.585634\n",
      "123610  C_ID_278446cc2f -0.426731\n",
      "123611  C_ID_ad358eb92e -0.476454\n",
      "123612  C_ID_7d9bcec574 -0.710816\n",
      "123613  C_ID_b588b35e15 -0.415022\n",
      "123614  C_ID_7147e348c3 -0.467254\n",
      "123615  C_ID_727d3ec5da -0.423077\n",
      "123616  C_ID_107d93e20c -0.388747\n",
      "123617  C_ID_0e74bd4966 -0.408899\n",
      "123618  C_ID_7a239d2eda -0.346969\n",
      "123619  C_ID_75ace375ae -0.316215\n",
      "123620  C_ID_21d56d950c -0.433113\n",
      "123621  C_ID_6c46fc5a9d -0.299029\n",
      "123622  C_ID_87e7979a5f -0.435204\n",
      "\n",
      "[123623 rows x 2 columns]\n",
      "LinearRegression(copy_X=True, fit_intercept=True, n_jobs=1, normalize=False)\n"
     ]
    },
    {
     "data": {
      "text/plain": [
       "0.000401548449723621"
      ]
     },
     "execution_count": 52,
     "metadata": {},
     "output_type": "execute_result"
    }
   ],
   "source": [
    "import statsmodels.api as sm\n",
    "import numpy as np\n",
    "import pandas as pd\n",
    "from sklearn import linear_model\n",
    "import warnings\n",
    "warnings.filterwarnings('ignore')\n",
    "\n",
    "# Get data from avaialble sources\n",
    "train_df = pd.read_csv(\"data/train.csv\", parse_dates=[\"first_active_month\"])\n",
    "test_df = pd.read_csv(\"data/test.csv\", parse_dates=[\"first_active_month\"])\n",
    "# historical_df = pd.read_csv(\"data/historical_transactions.csv\", parse_dates=[\"purchase_date\"])\n",
    "spend_by_card_df = pd.read_csv(\"data/spend_by_card.csv\")\n",
    "merchants_df = pd.read_csv(\"data/merchants.csv\")\n",
    "new_merchant_df = pd.read_csv(\"data/new_merchant_transactions.csv\", parse_dates=[\"purchase_date\"])\n",
    "\n",
    "# Create adjusted dataframes\n",
    "# sum purchase_amount by card_id\n",
    "# city_id\n",
    "# merchant_category_id\n",
    "# historical_df.groupby(['card_id', 'col2']).mean()\n",
    "# spend = historical_df[['card_id','purchase_amount']].groupby('card_id')\n",
    "# spend['purchase_amount'].sum()\n",
    "# print(spend_by_card_df)\n",
    "\n",
    "\n",
    "train_df[\"year\"] = train_df[\"first_active_month\"].dt.year\n",
    "train_df[\"month\"] = train_df[\"first_active_month\"].dt.month\n",
    "train_df['feature_1'] = train_df['feature_1'].astype('category')\n",
    "train_df['feature_2'] = train_df['feature_2'].astype('category')\n",
    "train_df['feature_3'] = train_df['feature_3'].astype('category')\n",
    "train_df = pd.merge(train_df, spend_by_card_df, on='card_id')\n",
    "\n",
    "test_df[\"year\"] = test_df[\"first_active_month\"].dt.year\n",
    "test_df[\"month\"] = test_df[\"first_active_month\"].dt.month\n",
    "test_df['feature_1'] = test_df['feature_1'].astype('category')\n",
    "test_df['feature_2'] = test_df['feature_2'].astype('category')\n",
    "test_df['feature_3'] = test_df['feature_3'].astype('category')\n",
    "test_df = pd.merge(test_df, spend_by_card_df, on='card_id')\n",
    "\n",
    "\n",
    "target = pd.DataFrame(train_df.target, columns=[\"target\"])\n",
    "X = train_df[[\"feature_1\", \"feature_2\", \"feature_3\", \"spend\", \"purchases\"]]\n",
    "\n",
    "y = target[\"target\"]\n",
    "\n",
    "lm = linear_model.LinearRegression()\n",
    "model = lm.fit(X,y)\n",
    "\n",
    "X_test = test_df[[\"feature_1\", \"feature_2\", \"feature_3\", \"spend\", \"purchases\"]]\n",
    "result = test_df\n",
    "result[\"target\"] = lm.predict(X_test)\n",
    "\n",
    "print(result[[\"card_id\", \"target\"]])\n",
    "result[[\"card_id\", \"target\"]].to_csv('submission1.csv', header=[\"card_id\", \"target\"], index=False)\n",
    "\n",
    "print(lm.)\n",
    "\n",
    "lm.score(X,y)\n",
    "\n"
   ]
  },
  {
   "cell_type": "code",
   "execution_count": null,
   "metadata": {},
   "outputs": [],
   "source": []
  }
 ],
 "metadata": {
  "kernelspec": {
   "display_name": "Python 3",
   "language": "python",
   "name": "python3"
  },
  "language_info": {
   "codemirror_mode": {
    "name": "ipython",
    "version": 3
   },
   "file_extension": ".py",
   "mimetype": "text/x-python",
   "name": "python",
   "nbconvert_exporter": "python",
   "pygments_lexer": "ipython3",
   "version": "3.6.5"
  }
 },
 "nbformat": 4,
 "nbformat_minor": 2
}
